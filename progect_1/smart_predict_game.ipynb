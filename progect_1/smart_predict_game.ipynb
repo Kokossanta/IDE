{
  "cells": [
    {
      "cell_type": "markdown",
      "metadata": {
        "id": "etz4ZRyqQO6g"
      },
      "source": [
        "# Угадай число"
      ]
    },
    {
      "cell_type": "code",
      "execution_count": 4,
      "metadata": {
        "id": "6DLG9F_iQO6m"
      },
      "outputs": [
        {
          "ename": "ImportError",
          "evalue": "cannot import name 'score_game' from 'smart_predict_game' (c:\\МФТИ DS\\Програмирование\\IDE\\progect_1\\smart_predict_game.py)",
          "output_type": "error",
          "traceback": [
            "\u001b[1;31m---------------------------------------------------------------------------\u001b[0m",
            "\u001b[1;31mImportError\u001b[0m                               Traceback (most recent call last)",
            "\u001b[1;32mc:\\МФТИ DS\\Програмирование\\IDE\\progect_1\\smart_predict_game.ipynb Cell 2\u001b[0m line \u001b[0;36m1\n\u001b[1;32m----> <a href='vscode-notebook-cell:/c%3A/%D0%9C%D0%A4%D0%A2%D0%98%20DS/%D0%9F%D1%80%D0%BE%D0%B3%D1%80%D0%B0%D0%BC%D0%B8%D1%80%D0%BE%D0%B2%D0%B0%D0%BD%D0%B8%D0%B5/IDE/progect_1/smart_predict_game.ipynb#W1sZmlsZQ%3D%3D?line=0'>1</a>\u001b[0m \u001b[39mfrom\u001b[39;00m \u001b[39msmart_predict_game\u001b[39;00m \u001b[39mimport\u001b[39;00m score_game, predict_num\n",
            "\u001b[1;31mImportError\u001b[0m: cannot import name 'score_game' from 'smart_predict_game' (c:\\МФТИ DS\\Програмирование\\IDE\\progect_1\\smart_predict_game.py)"
          ]
        }
      ],
      "source": [
        "from smart_predict_game import score_game, predict_num"
      ]
    },
    {
      "cell_type": "markdown",
      "metadata": {
        "id": "xppQkA7lQO6q"
      },
      "source": [
        "## Угадываем методом середины отрезка"
      ]
    },
    {
      "cell_type": "code",
      "execution_count": 2,
      "metadata": {
        "colab": {
          "base_uri": "https://localhost:8080/"
        },
        "id": "udOk2Xm1QO6r",
        "outputId": "dd27dea0-8ee1-4e74-a77b-9b60b30a29b4"
      },
      "outputs": [
        {
          "name": "stdout",
          "output_type": "stream",
          "text": [
            "Ваш алгоритм угадывает число в среднем за: 9 попыток\n"
          ]
        },
        {
          "data": {
            "text/plain": [
              "9"
            ]
          },
          "execution_count": 2,
          "metadata": {},
          "output_type": "execute_result"
        }
      ],
      "source": [
        "score_game(predict_num) #вызов функции"
      ]
    }
  ],
  "metadata": {
    "colab": {
      "provenance": []
    },
    "kernelspec": {
      "display_name": "Python 3",
      "language": "python",
      "name": "python3"
    },
    "language_info": {
      "codemirror_mode": {
        "name": "ipython",
        "version": 3
      },
      "file_extension": ".py",
      "mimetype": "text/x-python",
      "name": "python",
      "nbconvert_exporter": "python",
      "pygments_lexer": "ipython3",
      "version": "3.9.10"
    }
  },
  "nbformat": 4,
  "nbformat_minor": 0
}
