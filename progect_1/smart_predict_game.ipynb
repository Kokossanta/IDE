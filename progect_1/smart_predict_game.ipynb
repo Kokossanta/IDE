{
  "cells": [
    {
      "cell_type": "markdown",
      "metadata": {
        "id": "etz4ZRyqQO6g"
      },
      "source": [
        "# Угадай число"
      ]
    },
    {
      "cell_type": "code",
      "execution_count": 1,
      "metadata": {
        "id": "6DLG9F_iQO6m"
      },
      "outputs": [],
      "source": [
        "from smart_predict_game import score_game, predict_num"
      ]
    },
    {
      "cell_type": "markdown",
      "metadata": {
        "id": "xppQkA7lQO6q"
      },
      "source": [
        "## Угадываем методом середины отрезка"
      ]
    },
    {
      "cell_type": "code",
      "execution_count": 2,
      "metadata": {
        "colab": {
          "base_uri": "https://localhost:8080/"
        },
        "id": "udOk2Xm1QO6r",
        "outputId": "dd27dea0-8ee1-4e74-a77b-9b60b30a29b4"
      },
      "outputs": [
        {
          "name": "stdout",
          "output_type": "stream",
          "text": [
            "Ваш алгоритм угадывает число в среднем за: 9 попыток\n"
          ]
        },
        {
          "data": {
            "text/plain": [
              "9"
            ]
          },
          "execution_count": 2,
          "metadata": {},
          "output_type": "execute_result"
        }
      ],
      "source": [
        "score_game(predict_num) #вызов функции"
      ]
    }
  ],
  "metadata": {
    "colab": {
      "provenance": []
    },
    "kernelspec": {
      "display_name": "Python 3",
      "language": "python",
      "name": "python3"
    },
    "language_info": {
      "codemirror_mode": {
        "name": "ipython",
        "version": 3
      },
      "file_extension": ".py",
      "mimetype": "text/x-python",
      "name": "python",
      "nbconvert_exporter": "python",
      "pygments_lexer": "ipython3",
      "version": "3.9.10"
    }
  },
  "nbformat": 4,
  "nbformat_minor": 0
}
